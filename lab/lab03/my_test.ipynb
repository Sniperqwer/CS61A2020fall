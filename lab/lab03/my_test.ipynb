{
 "cells": [
  {
   "cell_type": "code",
   "execution_count": 10,
   "id": "51331e94",
   "metadata": {},
   "outputs": [],
   "source": [
    "def get_k_run_starter(n, k):\n",
    "    \"\"\"Returns the 0th digit of the kth increasing run within n.\n",
    "    >>> get_k_run_starter(123444345, 0) # example from description\n",
    "    3\n",
    "    >>> get_k_run_starter(123444345, 1)\n",
    "    4\n",
    "    >>> get_k_run_starter(123444345, 2)\n",
    "    4\n",
    "    >>> get_k_run_starter(123444345, 3)\n",
    "    1\n",
    "    >>> get_k_run_starter(123412341234, 1)\n",
    "    1\n",
    "    >>> get_k_run_starter(1234234534564567, 0)\n",
    "    4\n",
    "    >>> get_k_run_starter(1234234534564567, 1)\n",
    "    3\n",
    "    >>> get_k_run_starter(1234234534564567, 2)\n",
    "    2\n",
    "    \"\"\"\n",
    "    i = 0\n",
    "    final = None\n",
    "    while n > 0 and i <= k:\n",
    "        while (n % 10 > n // 10 % 10) and (n > 10):\n",
    "            n = n // 10\n",
    "        final = n % 10\n",
    "        i = i + 1\n",
    "        n = n // 10\n",
    "    return final"
   ]
  },
  {
   "cell_type": "code",
   "execution_count": 14,
   "id": "1d870fe3",
   "metadata": {},
   "outputs": [
    {
     "data": {
      "text/plain": [
       "3"
      ]
     },
     "execution_count": 14,
     "metadata": {},
     "output_type": "execute_result"
    }
   ],
   "source": [
    "# get_k_run_starter(123444345, 0) # example from description\n",
    "# 3\n",
    "# get_k_run_starter(123444345, 1)\n",
    "# 4\n",
    "# get_k_run_starter(123444345, 2)\n",
    "# 4\n",
    "# get_k_run_starter(123444345, 3)\n",
    "# 1\n",
    "# get_k_run_starter(123412341234, 1)\n",
    "# 1\n",
    "# get_k_run_starter(1234234534564567, 0)\n",
    "# 4\n",
    "# get_k_run_starter(1234234534564567, 1)\n",
    "# 3\n",
    "# get_k_run_starter(1234234534564567, 2)\n",
    "# 2"
   ]
  },
  {
   "cell_type": "code",
   "execution_count": 24,
   "id": "39c964e2",
   "metadata": {},
   "outputs": [],
   "source": [
    "def make_repeater(func, n):\n",
    "    \"\"\"Return the function that computes the nth application of func.\n",
    "\n",
    "    >>> add_three = make_repeater(increment, 3)\n",
    "    >>> add_three(5)\n",
    "    8\n",
    "    >>> make_repeater(triple, 5)(1) # 3 * 3 * 3 * 3 * 3 * 1\n",
    "    243\n",
    "    >>> make_repeater(square, 2)(5) # square(square(5))\n",
    "    625\n",
    "    >>> make_repeater(square, 4)(5) # square(square(square(square(5))))\n",
    "    152587890625\n",
    "    >>> make_repeater(square, 0)(5) # Yes, it makes sense to apply the function zero times!\n",
    "    5\n",
    "    \"\"\"\n",
    "    \"*** YOUR CODE HERE ***\"\n",
    "    def f(x):\n",
    "        ret = x\n",
    "        m = n\n",
    "        while m > 0:\n",
    "            ret = func(ret)\n",
    "            m -= 1\n",
    "        return ret\n",
    "    return f"
   ]
  },
  {
   "cell_type": "code",
   "execution_count": 17,
   "id": "27eec3cd",
   "metadata": {},
   "outputs": [],
   "source": [
    "from operator import add, mul\n",
    "\n",
    "\n",
    "def square(x): return x * x\n",
    "\n",
    "\n",
    "def identity(x): return x\n",
    "\n",
    "\n",
    "def triple(x): return 3 * x\n",
    "\n",
    "\n",
    "def increment(x): return x + 1"
   ]
  },
  {
   "cell_type": "code",
   "execution_count": 29,
   "id": "bc37a02e",
   "metadata": {},
   "outputs": [
    {
     "data": {
      "text/plain": [
       "5"
      ]
     },
     "execution_count": 29,
     "metadata": {},
     "output_type": "execute_result"
    }
   ],
   "source": [
    "add_three = make_repeater(increment, 3)\n",
    "# add_three(5)\n",
    "# 8\n",
    "# make_repeater(triple, 5)(1) # 3 * 3 * 3 * 3 * 3 * 1\n",
    "# 243\n",
    "# make_repeater(square, 2)(5) # square(square(5))\n",
    "# 625\n",
    "# make_repeater(square, 4)(5) # square(square(square(square(5))))\n",
    "# 152587890625\n",
    "make_repeater(square, 0)(5) # Yes, it makes sense to apply the function zero times!\n",
    "# 5"
   ]
  },
  {
   "cell_type": "code",
   "execution_count": null,
   "id": "abe60bcb",
   "metadata": {},
   "outputs": [],
   "source": [
    "def composer(func1, func2):\n",
    "    \"\"\"Return a function f, such that f(x) = func1(func2(x)).\"\"\"\n",
    "    def f(x):\n",
    "        return func1(func2(x))\n",
    "    return f"
   ]
  },
  {
   "cell_type": "code",
   "execution_count": 30,
   "id": "9dc1bebd",
   "metadata": {},
   "outputs": [],
   "source": [
    "def apply_twice(func):\n",
    "    \"\"\" Return a function that applies func twice.\n",
    "\n",
    "    func -- a function that takes one argument\n",
    "\n",
    "    >>> apply_twice(square)(2)\n",
    "    16\n",
    "    \"\"\"\n",
    "    \"*** YOUR CODE HERE ***\"\n",
    "    return make_repeater(func, 2)"
   ]
  },
  {
   "cell_type": "code",
   "execution_count": 31,
   "id": "51cbad8b",
   "metadata": {},
   "outputs": [
    {
     "data": {
      "text/plain": [
       "16"
      ]
     },
     "execution_count": 31,
     "metadata": {},
     "output_type": "execute_result"
    }
   ],
   "source": [
    "apply_twice(square)(2)"
   ]
  },
  {
   "cell_type": "code",
   "execution_count": 11,
   "id": "701267e2",
   "metadata": {},
   "outputs": [],
   "source": [
    "def div_by_primes_under(n):\n",
    "    \"\"\"\n",
    "    >>> div_by_primes_under(10)(11)\n",
    "    False\n",
    "    >>> div_by_primes_under(10)(121)\n",
    "    False\n",
    "    >>> div_by_primes_under(10)(12)\n",
    "    True\n",
    "    >>> div_by_primes_under(5)(1)\n",
    "    False\n",
    "    \"\"\"\n",
    "    def f(x):\n",
    "        i = 2\n",
    "        while i * i <= x and i <= n:\n",
    "            if is_prime(i):\n",
    "                if x % i == 0:\n",
    "                    return True\n",
    "            i = i + 1\n",
    "        return False\n",
    "    return f\n",
    "\n"
   ]
  },
  {
   "cell_type": "code",
   "execution_count": null,
   "id": "e85ca5d0",
   "metadata": {},
   "outputs": [],
   "source": [
    "def div_by_primes_under(n):\n",
    "    \"\"\"\n",
    "    >>> div_by_primes_under(10)(11)\n",
    "    False\n",
    "    >>> div_by_primes_under(10)(121)\n",
    "    False\n",
    "    >>> div_by_primes_under(10)(12)\n",
    "    True\n",
    "    >>> div_by_primes_under(5)(1)\n",
    "    False\n",
    "    \"\"\"\n",
    "    def checker(x): return False\n",
    "    i = 2\n",
    "    while i <= n:\n",
    "        if not checker(i):\n",
    "            checker = (lambda f, i: lambda x: )(checker, i)\n",
    "\n",
    "            # checker = lambda x: is_prime(i) and (x % i == 0)\n",
    "        i = i + 1\n",
    "    return checker"
   ]
  },
  {
   "cell_type": "code",
   "execution_count": null,
   "id": "b57d434d",
   "metadata": {},
   "outputs": [],
   "source": [
    "def div_by_primes_under_no_lambda(n):\n",
    "    \"\"\"\n",
    "    >>> div_by_primes_under_no_lambda(10)(11)\n",
    "    False\n",
    "    >>> div_by_primes_under_no_lambda(10)(121)\n",
    "    False\n",
    "    >>> div_by_primes_under_no_lambda(10)(12)\n",
    "    True\n",
    "    >>> div_by_primes_under_no_lambda(5)(1)\n",
    "    False\n",
    "    \"\"\"\n",
    "    def checker(x):\n",
    "        return False\n",
    "    i = 2\n",
    "    while i <= n:\n",
    "        if not checker(i):\n",
    "            def outer(f, i):\n",
    "                def inner(x):\n",
    "                    return ____________________________\n",
    "                return outer\n",
    "            checker = outer(checker, i)\n",
    "        i = i + 1\n",
    "    return checker"
   ]
  },
  {
   "cell_type": "code",
   "execution_count": 20,
   "id": "b3921986",
   "metadata": {},
   "outputs": [
    {
     "name": "stdout",
     "output_type": "stream",
     "text": [
      "2\n",
      "4\n",
      "6\n",
      "8\n",
      "9\n",
      "10\n"
     ]
    },
    {
     "data": {
      "text/plain": [
       "True"
      ]
     },
     "execution_count": 20,
     "metadata": {},
     "output_type": "execute_result"
    }
   ],
   "source": [
    "div_by_primes_under(10)(11)\n",
    "# div_by_primes_under(10)(121)\n",
    "# div_by_primes_under(10)(12)\n",
    "# div_by_primes_under(5)(1)"
   ]
  },
  {
   "cell_type": "code",
   "execution_count": null,
   "id": "54f00c7d",
   "metadata": {},
   "outputs": [],
   "source": [
    "def is_prime(x):\n",
    "    \"\"\"check whether a integer is a prime.\n",
    "    >>> is_prime(1)\n",
    "    False\n",
    "    >>> is_prime(13)\n",
    "    True\n",
    "    >>> is_prime(27)\n",
    "    False\n",
    "    \"\"\"\n",
    "    if x == 1:\n",
    "        return False\n",
    "    i = 2\n",
    "    while i * i <= x:\n",
    "        if x % i == 0:\n",
    "            return False\n",
    "        i += 1\n",
    "    return True"
   ]
  },
  {
   "cell_type": "code",
   "execution_count": 6,
   "id": "cc383246",
   "metadata": {},
   "outputs": [
    {
     "data": {
      "text/plain": [
       "False"
      ]
     },
     "execution_count": 6,
     "metadata": {},
     "output_type": "execute_result"
    }
   ],
   "source": [
    "is_prime(2)\n",
    "is_prime(27)"
   ]
  },
  {
   "cell_type": "code",
   "execution_count": 6,
   "id": "5f965be4",
   "metadata": {},
   "outputs": [
    {
     "data": {
      "text/plain": [
       "[4, 4, 4]"
      ]
     },
     "execution_count": 6,
     "metadata": {},
     "output_type": "execute_result"
    }
   ],
   "source": [
    "funcs = [lambda x: x * i for i in range(3)]\n",
    "[f(2) for f in funcs]"
   ]
  },
  {
   "cell_type": "code",
   "execution_count": 8,
   "id": "03ab314c",
   "metadata": {},
   "outputs": [
    {
     "data": {
      "text/plain": [
       "{<function __main__.<listcomp>.<lambda>(x)>,\n",
       " <function __main__.<listcomp>.<lambda>(x)>,\n",
       " <function __main__.<listcomp>.<lambda>(x)>}"
      ]
     },
     "execution_count": 8,
     "metadata": {},
     "output_type": "execute_result"
    }
   ],
   "source": [
    "set(funcs)"
   ]
  },
  {
   "cell_type": "code",
   "execution_count": null,
   "id": "2f7e29b8",
   "metadata": {},
   "outputs": [
    {
     "data": {
      "text/plain": [
       "[<function __main__.<listcomp>.<lambda>.<locals>.<lambda>(x)>,\n",
       " <function __main__.<listcomp>.<lambda>.<locals>.<lambda>(x)>,\n",
       " <function __main__.<listcomp>.<lambda>.<locals>.<lambda>(x)>]"
      ]
     },
     "execution_count": 9,
     "metadata": {},
     "output_type": "execute_result"
    }
   ],
   "source": [
    "# funcs = [(lambda i: lambda x: x * i)(i) for i in range(3)]\n",
    "funcs = [lambda i: lambda x: x * i for i in range(3)]\n",
    "[f(2) for f in funcs]"
   ]
  },
  {
   "cell_type": "code",
   "execution_count": 12,
   "id": "d25923df",
   "metadata": {},
   "outputs": [
    {
     "name": "stdout",
     "output_type": "stream",
     "text": [
      "[0, 2, 4]\n"
     ]
    }
   ],
   "source": [
    "funcs = [lambda x, j=i: x * j for i in range(3)]\n",
    "print([f(2) for f in funcs])  # 输出 [0, 2, 4]"
   ]
  },
  {
   "cell_type": "code",
   "execution_count": 4,
   "id": "d0a81c43",
   "metadata": {},
   "outputs": [
    {
     "name": "stdout",
     "output_type": "stream",
     "text": [
      "[0, 2, 4]\n"
     ]
    }
   ],
   "source": [
    "def make_func(j):\n",
    "    def f(x):\n",
    "        return x * j\n",
    "    return f\n",
    "    # return lambda x: x * j  # j是make_func的局部变量，每次调用独立\n",
    "\n",
    "funcs = [make_func(i) for i in range(3)]\n",
    "print([f(2) for f in funcs])  # 输出 [0, 2, 4] ✅"
   ]
  }
 ],
 "metadata": {
  "kernelspec": {
   "display_name": "myenv9",
   "language": "python",
   "name": "python3"
  },
  "language_info": {
   "codemirror_mode": {
    "name": "ipython",
    "version": 3
   },
   "file_extension": ".py",
   "mimetype": "text/x-python",
   "name": "python",
   "nbconvert_exporter": "python",
   "pygments_lexer": "ipython3",
   "version": "3.9.21"
  }
 },
 "nbformat": 4,
 "nbformat_minor": 5
}
